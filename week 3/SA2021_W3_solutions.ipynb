{
 "cells": [
  {
   "cell_type": "markdown",
   "metadata": {
    "id": "XU2nvCxTvpar"
   },
   "source": [
    "<br>\n",
    "<h1 style = \"font-size:40px; font-family:monospace ; font-weight : bold; color : #3C0096; text-align: center; border-radius: 5px 25px;\">SA-2021 Week 3 Graded Assignment [Solved]</h1>\n",
    "<br>"
   ]
  },
  {
   "cell_type": "markdown",
   "metadata": {
    "id": "vziCwtYSvpav"
   },
   "source": [
    "<br>\n",
    "<h1 style = \"font-size:30px; font-family:monospace ; font-weight : bold; color : #AE0052; text-align: center; border-radius: 10px 10px;\">☔Rain Prediction in Australia☔</h1>\n",
    "<br>"
   ]
  },
  {
   "cell_type": "markdown",
   "metadata": {
    "id": "qrhh_RHuvpav"
   },
   "source": [
    "![](https://media0.giphy.com/media/tkMeNtj9FQYx2/giphy.gif)"
   ]
  },
  {
   "cell_type": "markdown",
   "metadata": {
    "id": "mRQUWnirvpaw"
   },
   "source": [
    "<span style=\"font-size:20px;color:#0026D8;font-weight : bold\">Dataset Description:</span>\n",
    "\n",
    "**This dataset contains daily weather observations from numerous Australian weather stations.**\n",
    "- **Date** - The date of observation<br>\n",
    "- **Location** - The common name of the location of the weather station<br>\n",
    "- **MinTemp** - The minimum temperature in degrees celsius<br>\n",
    "- **MaxTemp** - The maximum temperature in degrees celsius<br>\n",
    "- **Rainfall** - The amount of rainfall recorded for the day in mm<br>\n",
    "- **Evaporation** - The so-called Class A pan evaporation (mm) in the 24 hours to 9am<br>\n",
    "- **Sunshine** - The number of hours of bright sunshine in the day.<br>\n",
    "- **WindGustDir** - The direction of the strongest wind gust in the 24 hours to midnight<br>\n",
    "- **WindGustSpeed** - The speed (km/h) of the strongest wind gust in the 24 hours to midnight<br>\n",
    "- **WindDir9am** - Direction of the wind at 9am<br>\n",
    "- **WindDir3pm** - Direction of the wind at 3pm<br>\n",
    "- **WindSpeed9am** - Wind speed (km/hr) averaged over 10 minutes prior to 9am<br>\n",
    "- **WindSpeed3pm** - Wind speed (km/hr) averaged over 10 minutes prior to 3pm<br>\n",
    "- **Humidity9am** - Humidity (percent) at 9am<br>\n",
    "- **Humidity3pm** - Humidity (percent) at 3pm<br>\n",
    "- **Pressure9am** - Atmospheric pressure (hpa) reduced to mean sea level at 9am<br>\n",
    "- **Pressure3pm** - Atmospheric pressure (hpa) reduced to mean sea level at 3pm<br>\n",
    "- **Cloud9am** - Fraction of sky obscured by cloud at 9am. This is measured in \"oktas\", which are a unit of                    eigths. It records how many eigths of the sky are obscured by cloud. A 0 measure indicates                    completely clear sky whilst an 8 indicates that it is completely overcast.<br>\n",
    "- **Cloud3pm** - Fraction of sky obscured by cloud (in \"oktas\": eighths) at 3pm. See Cload9am for a description                of the values<br>\n",
    "- **Temp9am** - Temperature (degrees C) at 9am<br>\n",
    "- **Temp3pm** - Temperature (degrees C) at 3pm<br>\n",
    "- **RainToday** - Boolean: 1 if precipitation (mm) in the 24 hours to 9am exceeds 1mm, otherwise 0<br>\n",
    "- **RainTomorrow** - The target variable. Will it rain tomorrow?"
   ]
  },
  {
   "cell_type": "markdown",
   "metadata": {
    "id": "rsH1_6fPvpaw"
   },
   "source": [
    "### It is highly recommended to read the documentation before implementing any alogorithm."
   ]
  },
  {
   "cell_type": "markdown",
   "metadata": {
    "id": "tEcIZ5qdvpax"
   },
   "source": [
    "- **Logistic Regression** : https://scikit-learn.org/stable/modules/generated/sklearn.linear_model.LogisticRegression.html <br>\n",
    "- **SVM** : https://scikit-learn.org/stable/modules/svm.html <br>\n",
    "- **Confusion Matrix** : https://scikit-learn.org/stable/modules/generated/sklearn.metrics.confusion_matrix.html <br>\n",
    "- **Plot Confusion Matrix** : https://scikit-learn.org/stable/modules/generated/sklearn.metrics.plot_confusion_matrix.html <br>\n",
    "- **ROC_AUC Score** : https://scikit-learn.org/stable/modules/generated/sklearn.metrics.roc_auc_score.html#sklearn.metrics.roc_auc_score <br>\n",
    "- **Classification Report** : https://scikit-learn.org/stable/modules/generated/sklearn.metrics.classification_report.html <br>\n",
    "- **Label Encoder** : https://scikit-learn.org/stable/modules/generated/sklearn.preprocessing.LabelEncoder.html <br>\n",
    "- **Label Binarizer** : https://scikit-learn.org/stable/modules/generated/sklearn.preprocessing.LabelBinarizer.html <br>\n",
    "- **Standard Scaler** : https://scikit-learn.org/stable/modules/generated/sklearn.preprocessing.StandardScaler.html <br>\n",
    "- **Cross Val Score** : https://scikit-learn.org/stable/modules/generated/sklearn.model_selection.cross_val_score.html <br>\n",
    "\n"
   ]
  },
  {
   "cell_type": "code",
   "execution_count": null,
   "metadata": {
    "id": "1_Q5m8Xmvpax",
    "outputId": "1acb512f-6742-4e5b-e337-aca067972937"
   },
   "outputs": [
    {
     "data": {
      "text/html": [
       "\n",
       "<style>\n",
       "h1,h2,h3 {\n",
       "\tmargin: 1em 0 0.5em 0;\n",
       "\tfont-weight: 600;\n",
       "\tfont-family: 'Titillium Web', sans-serif;\n",
       "\tposition: relative;  \n",
       "\tfont-size: 36px;\n",
       "\tline-height: 40px;\n",
       "\tpadding: 15px 15px 15px 2.5%;\n",
       "\tcolor: #13003A;\n",
       "\tbox-shadow: \n",
       "\t\tinset 0 0 0 1px rgba(53,86,129, 1), \n",
       "\t\tinset 0 0 5px rgba(53,86,129, 1),\n",
       "\t\tinset -285px 0 35px white;\n",
       "\tborder-radius: 0 10px 0 15px;\n",
       "\tbackground: #fff\n",
       "    \n",
       "}\n",
       "</style>\n"
      ],
      "text/plain": [
       "<IPython.core.display.HTML object>"
      ]
     },
     "execution_count": 3,
     "metadata": {
      "tags": []
     },
     "output_type": "execute_result"
    }
   ],
   "source": [
    "## ======== Run this Cell as it is======== ##\n",
    "\n",
    "from IPython.display import HTML\n",
    "HTML(\"\"\"\n",
    "<style>\n",
    "h1,h2,h3 {\n",
    "\tmargin: 1em 0 0.5em 0;\n",
    "\tfont-weight: 600;\n",
    "\tfont-family: 'Titillium Web', sans-serif;\n",
    "\tposition: relative;  \n",
    "\tfont-size: 36px;\n",
    "\tline-height: 40px;\n",
    "\tpadding: 15px 15px 15px 2.5%;\n",
    "\tcolor: #13003A;\n",
    "\tbox-shadow: \n",
    "\t\tinset 0 0 0 1px rgba(53,86,129, 1), \n",
    "\t\tinset 0 0 5px rgba(53,86,129, 1),\n",
    "\t\tinset -285px 0 35px white;\n",
    "\tborder-radius: 0 10px 0 15px;\n",
    "\tbackground: #fff\n",
    "    \n",
    "}\n",
    "</style>\n",
    "\"\"\")\n",
    "\n",
    "\n",
    "## ================================ ##"
   ]
  },
  {
   "cell_type": "markdown",
   "metadata": {
    "id": "tQG2K5CQvpaz"
   },
   "source": [
    "<h1 style=\"background-color:#ABFF9B;font-size:20px;color:#00033E;font-weight : bold\">✅ Importing Required Libraries</h1>"
   ]
  },
  {
   "cell_type": "code",
   "execution_count": 1,
   "metadata": {
    "id": "DHyUvB8tvpa0"
   },
   "outputs": [],
   "source": [
    "## ======== YOUR CODE HERE ======== ##\n",
    "\n",
    "## Import numpy, pandas, matplotlib, seaborn\n",
    "\n",
    "import pandas as pd\n",
    "import numpy as np\n",
    "import matplotlib.pyplot as plt\n",
    "import seaborn as sns\n",
    "\n",
    "## Import Logistic regression and SVC\n",
    "\n",
    "from sklearn.svm import SVC\n",
    "from sklearn.linear_model import LogisticRegression\n",
    "\n",
    "## Import Confusion matrix, plot confusion matrix, classification report, accuracy score, auc-roc score and roc curve\n",
    "\n",
    "from sklearn.metrics import confusion_matrix, classification_report\n",
    "from sklearn.metrics import roc_auc_score\n",
    "from sklearn.metrics import accuracy_score\n",
    "from sklearn.metrics import roc_curve\n",
    "from sklearn.metrics import plot_confusion_matrix\n",
    "\n",
    "## Import Label encoder, label binarizer and Standard Scaler\n",
    "\n",
    "from sklearn.preprocessing import StandardScaler\n",
    "from sklearn.preprocessing import LabelEncoder,LabelBinarizer\n",
    "\n",
    "## ================================ ##\n",
    "\n",
    "from sklearn.model_selection import train_test_split\n",
    "from sklearn.model_selection import cross_val_score\n",
    "import warnings\n",
    "warnings.filterwarnings(\"ignore\")"
   ]
  },
  {
   "cell_type": "markdown",
   "metadata": {
    "id": "r-tHNg8qvpa0"
   },
   "source": [
    "<h1 style=\"background-color:#ABFF9B;font-size:20px;color:#00033E;font-weight : bold\">Read the data </h1>"
   ]
  },
  {
   "cell_type": "code",
   "execution_count": 2,
   "metadata": {
    "id": "m-owrU7vvpa0"
   },
   "outputs": [
    {
     "data": {
      "text/html": [
       "<div>\n",
       "<style scoped>\n",
       "    .dataframe tbody tr th:only-of-type {\n",
       "        vertical-align: middle;\n",
       "    }\n",
       "\n",
       "    .dataframe tbody tr th {\n",
       "        vertical-align: top;\n",
       "    }\n",
       "\n",
       "    .dataframe thead th {\n",
       "        text-align: right;\n",
       "    }\n",
       "</style>\n",
       "<table border=\"1\" class=\"dataframe\">\n",
       "  <thead>\n",
       "    <tr style=\"text-align: right;\">\n",
       "      <th></th>\n",
       "      <th>Date</th>\n",
       "      <th>Location</th>\n",
       "      <th>MinTemp</th>\n",
       "      <th>MaxTemp</th>\n",
       "      <th>Rainfall</th>\n",
       "      <th>Evaporation</th>\n",
       "      <th>Sunshine</th>\n",
       "      <th>WindGustDir</th>\n",
       "      <th>WindGustSpeed</th>\n",
       "      <th>WindDir9am</th>\n",
       "      <th>...</th>\n",
       "      <th>Humidity9am</th>\n",
       "      <th>Humidity3pm</th>\n",
       "      <th>Pressure9am</th>\n",
       "      <th>Pressure3pm</th>\n",
       "      <th>Cloud9am</th>\n",
       "      <th>Cloud3pm</th>\n",
       "      <th>Temp9am</th>\n",
       "      <th>Temp3pm</th>\n",
       "      <th>RainToday</th>\n",
       "      <th>RainTomorrow</th>\n",
       "    </tr>\n",
       "  </thead>\n",
       "  <tbody>\n",
       "    <tr>\n",
       "      <th>0</th>\n",
       "      <td>2856</td>\n",
       "      <td>11</td>\n",
       "      <td>18.3</td>\n",
       "      <td>35.4</td>\n",
       "      <td>0.0</td>\n",
       "      <td>10.7</td>\n",
       "      <td>8.2</td>\n",
       "      <td>15</td>\n",
       "      <td>31</td>\n",
       "      <td>0</td>\n",
       "      <td>...</td>\n",
       "      <td>17</td>\n",
       "      <td>14</td>\n",
       "      <td>1012.8</td>\n",
       "      <td>1010.7</td>\n",
       "      <td>3</td>\n",
       "      <td>7</td>\n",
       "      <td>26.3</td>\n",
       "      <td>34.0</td>\n",
       "      <td>0</td>\n",
       "      <td>1</td>\n",
       "    </tr>\n",
       "    <tr>\n",
       "      <th>1</th>\n",
       "      <td>575</td>\n",
       "      <td>0</td>\n",
       "      <td>12.0</td>\n",
       "      <td>21.1</td>\n",
       "      <td>0.0</td>\n",
       "      <td>2.4</td>\n",
       "      <td>4.9</td>\n",
       "      <td>11</td>\n",
       "      <td>22</td>\n",
       "      <td>15</td>\n",
       "      <td>...</td>\n",
       "      <td>70</td>\n",
       "      <td>60</td>\n",
       "      <td>1022.3</td>\n",
       "      <td>1020.2</td>\n",
       "      <td>2</td>\n",
       "      <td>7</td>\n",
       "      <td>16.2</td>\n",
       "      <td>19.4</td>\n",
       "      <td>0</td>\n",
       "      <td>0</td>\n",
       "    </tr>\n",
       "    <tr>\n",
       "      <th>2</th>\n",
       "      <td>2037</td>\n",
       "      <td>6</td>\n",
       "      <td>11.9</td>\n",
       "      <td>17.0</td>\n",
       "      <td>1.6</td>\n",
       "      <td>5.6</td>\n",
       "      <td>0.8</td>\n",
       "      <td>5</td>\n",
       "      <td>48</td>\n",
       "      <td>4</td>\n",
       "      <td>...</td>\n",
       "      <td>71</td>\n",
       "      <td>88</td>\n",
       "      <td>1008.4</td>\n",
       "      <td>1004.7</td>\n",
       "      <td>7</td>\n",
       "      <td>7</td>\n",
       "      <td>14.6</td>\n",
       "      <td>13.3</td>\n",
       "      <td>1</td>\n",
       "      <td>1</td>\n",
       "    </tr>\n",
       "    <tr>\n",
       "      <th>3</th>\n",
       "      <td>2010</td>\n",
       "      <td>19</td>\n",
       "      <td>1.3</td>\n",
       "      <td>10.2</td>\n",
       "      <td>4.2</td>\n",
       "      <td>2.6</td>\n",
       "      <td>4.4</td>\n",
       "      <td>15</td>\n",
       "      <td>33</td>\n",
       "      <td>15</td>\n",
       "      <td>...</td>\n",
       "      <td>87</td>\n",
       "      <td>64</td>\n",
       "      <td>1018.4</td>\n",
       "      <td>1016.8</td>\n",
       "      <td>7</td>\n",
       "      <td>7</td>\n",
       "      <td>3.8</td>\n",
       "      <td>8.5</td>\n",
       "      <td>1</td>\n",
       "      <td>0</td>\n",
       "    </tr>\n",
       "    <tr>\n",
       "      <th>4</th>\n",
       "      <td>2895</td>\n",
       "      <td>18</td>\n",
       "      <td>23.7</td>\n",
       "      <td>31.5</td>\n",
       "      <td>0.0</td>\n",
       "      <td>11.0</td>\n",
       "      <td>12.1</td>\n",
       "      <td>4</td>\n",
       "      <td>35</td>\n",
       "      <td>2</td>\n",
       "      <td>...</td>\n",
       "      <td>53</td>\n",
       "      <td>50</td>\n",
       "      <td>1014.2</td>\n",
       "      <td>1010.2</td>\n",
       "      <td>3</td>\n",
       "      <td>1</td>\n",
       "      <td>29.1</td>\n",
       "      <td>30.4</td>\n",
       "      <td>0</td>\n",
       "      <td>0</td>\n",
       "    </tr>\n",
       "  </tbody>\n",
       "</table>\n",
       "<p>5 rows × 23 columns</p>\n",
       "</div>"
      ],
      "text/plain": [
       "   Date  Location  MinTemp  MaxTemp  Rainfall  Evaporation  Sunshine  \\\n",
       "0  2856        11     18.3     35.4       0.0         10.7       8.2   \n",
       "1   575         0     12.0     21.1       0.0          2.4       4.9   \n",
       "2  2037         6     11.9     17.0       1.6          5.6       0.8   \n",
       "3  2010        19      1.3     10.2       4.2          2.6       4.4   \n",
       "4  2895        18     23.7     31.5       0.0         11.0      12.1   \n",
       "\n",
       "   WindGustDir  WindGustSpeed  WindDir9am  ...  Humidity9am  Humidity3pm  \\\n",
       "0           15             31           0  ...           17           14   \n",
       "1           11             22          15  ...           70           60   \n",
       "2            5             48           4  ...           71           88   \n",
       "3           15             33          15  ...           87           64   \n",
       "4            4             35           2  ...           53           50   \n",
       "\n",
       "   Pressure9am  Pressure3pm  Cloud9am  Cloud3pm  Temp9am  Temp3pm  RainToday  \\\n",
       "0       1012.8       1010.7         3         7     26.3     34.0          0   \n",
       "1       1022.3       1020.2         2         7     16.2     19.4          0   \n",
       "2       1008.4       1004.7         7         7     14.6     13.3          1   \n",
       "3       1018.4       1016.8         7         7      3.8      8.5          1   \n",
       "4       1014.2       1010.2         3         1     29.1     30.4          0   \n",
       "\n",
       "   RainTomorrow  \n",
       "0             1  \n",
       "1             0  \n",
       "2             1  \n",
       "3             0  \n",
       "4             0  \n",
       "\n",
       "[5 rows x 23 columns]"
      ]
     },
     "execution_count": 2,
     "metadata": {},
     "output_type": "execute_result"
    }
   ],
   "source": [
    "## ======== YOUR CODE HERE ======== ##\n",
    "\n",
    "df=pd.read_csv(r\"C:\\Users\\hp\\Downloads\\final_data.csv\")\n",
    "df.head()\n",
    "\n",
    "## ================================ ##"
   ]
  },
  {
   "cell_type": "code",
   "execution_count": 6,
   "metadata": {
    "id": "mxownAh7vpa1"
   },
   "outputs": [
    {
     "name": "stdout",
     "output_type": "stream",
     "text": [
      "Shape ->  (24196, 23)\n",
      "<class 'pandas.core.frame.DataFrame'>\n",
      "RangeIndex: 24196 entries, 0 to 24195\n",
      "Data columns (total 23 columns):\n",
      " #   Column         Non-Null Count  Dtype  \n",
      "---  ------         --------------  -----  \n",
      " 0   Date           24196 non-null  int64  \n",
      " 1   Location       24196 non-null  int64  \n",
      " 2   MinTemp        24196 non-null  float64\n",
      " 3   MaxTemp        24196 non-null  float64\n",
      " 4   Rainfall       24196 non-null  float64\n",
      " 5   Evaporation    24196 non-null  float64\n",
      " 6   Sunshine       24196 non-null  float64\n",
      " 7   WindGustDir    24196 non-null  int64  \n",
      " 8   WindGustSpeed  24196 non-null  int64  \n",
      " 9   WindDir9am     24196 non-null  int64  \n",
      " 10  WindDir3pm     24196 non-null  int64  \n",
      " 11  WindSpeed9am   24196 non-null  int64  \n",
      " 12  WindSpeed3pm   24196 non-null  int64  \n",
      " 13  Humidity9am    24196 non-null  int64  \n",
      " 14  Humidity3pm    24196 non-null  int64  \n",
      " 15  Pressure9am    24196 non-null  float64\n",
      " 16  Pressure3pm    24196 non-null  float64\n",
      " 17  Cloud9am       24196 non-null  int64  \n",
      " 18  Cloud3pm       24196 non-null  int64  \n",
      " 19  Temp9am        24196 non-null  float64\n",
      " 20  Temp3pm        24196 non-null  float64\n",
      " 21  RainToday      24196 non-null  int64  \n",
      " 22  RainTomorrow   24196 non-null  int64  \n",
      "dtypes: float64(9), int64(14)\n",
      "memory usage: 4.2 MB\n"
     ]
    }
   ],
   "source": [
    "## Check the shape of data. It should be (24196,23)\n",
    "\n",
    "## ======== YOUR CODE HERE ======== ##\n",
    "\n",
    "print(\"Shape -> \",df.shape)\n",
    "df.info()\n",
    "\n",
    "## ================================ ##"
   ]
  },
  {
   "cell_type": "code",
   "execution_count": 7,
   "metadata": {
    "id": "sMBhA4H3vpa1"
   },
   "outputs": [
    {
     "data": {
      "text/html": [
       "<div>\n",
       "<style scoped>\n",
       "    .dataframe tbody tr th:only-of-type {\n",
       "        vertical-align: middle;\n",
       "    }\n",
       "\n",
       "    .dataframe tbody tr th {\n",
       "        vertical-align: top;\n",
       "    }\n",
       "\n",
       "    .dataframe thead th {\n",
       "        text-align: right;\n",
       "    }\n",
       "</style>\n",
       "<table border=\"1\" class=\"dataframe\">\n",
       "  <thead>\n",
       "    <tr style=\"text-align: right;\">\n",
       "      <th></th>\n",
       "      <th>Date</th>\n",
       "      <th>Location</th>\n",
       "      <th>MinTemp</th>\n",
       "      <th>MaxTemp</th>\n",
       "      <th>Rainfall</th>\n",
       "      <th>Evaporation</th>\n",
       "      <th>Sunshine</th>\n",
       "      <th>WindGustDir</th>\n",
       "      <th>WindGustSpeed</th>\n",
       "      <th>WindDir9am</th>\n",
       "      <th>...</th>\n",
       "      <th>Humidity9am</th>\n",
       "      <th>Humidity3pm</th>\n",
       "      <th>Pressure9am</th>\n",
       "      <th>Pressure3pm</th>\n",
       "      <th>Cloud9am</th>\n",
       "      <th>Cloud3pm</th>\n",
       "      <th>Temp9am</th>\n",
       "      <th>Temp3pm</th>\n",
       "      <th>RainToday</th>\n",
       "      <th>RainTomorrow</th>\n",
       "    </tr>\n",
       "  </thead>\n",
       "  <tbody>\n",
       "    <tr>\n",
       "      <th>count</th>\n",
       "      <td>24196.000000</td>\n",
       "      <td>24196.000000</td>\n",
       "      <td>24196.000000</td>\n",
       "      <td>24196.000000</td>\n",
       "      <td>24196.000000</td>\n",
       "      <td>24196.000000</td>\n",
       "      <td>24196.000000</td>\n",
       "      <td>24196.000000</td>\n",
       "      <td>24196.000000</td>\n",
       "      <td>24196.000000</td>\n",
       "      <td>...</td>\n",
       "      <td>24196.000000</td>\n",
       "      <td>24196.000000</td>\n",
       "      <td>24196.000000</td>\n",
       "      <td>24196.000000</td>\n",
       "      <td>24196.000000</td>\n",
       "      <td>24196.000000</td>\n",
       "      <td>24196.000000</td>\n",
       "      <td>24196.000000</td>\n",
       "      <td>24196.000000</td>\n",
       "      <td>24196.000000</td>\n",
       "    </tr>\n",
       "    <tr>\n",
       "      <th>mean</th>\n",
       "      <td>1702.554430</td>\n",
       "      <td>11.126880</td>\n",
       "      <td>13.281232</td>\n",
       "      <td>23.124078</td>\n",
       "      <td>3.008857</td>\n",
       "      <td>5.114329</td>\n",
       "      <td>6.700591</td>\n",
       "      <td>7.752273</td>\n",
       "      <td>42.371880</td>\n",
       "      <td>7.315424</td>\n",
       "      <td>...</td>\n",
       "      <td>69.505621</td>\n",
       "      <td>55.335345</td>\n",
       "      <td>1016.774682</td>\n",
       "      <td>1014.508518</td>\n",
       "      <td>4.767152</td>\n",
       "      <td>4.926682</td>\n",
       "      <td>17.609216</td>\n",
       "      <td>21.493420</td>\n",
       "      <td>0.293396</td>\n",
       "      <td>0.453918</td>\n",
       "    </tr>\n",
       "    <tr>\n",
       "      <th>std</th>\n",
       "      <td>837.645705</td>\n",
       "      <td>6.397324</td>\n",
       "      <td>6.084032</td>\n",
       "      <td>6.681013</td>\n",
       "      <td>8.399269</td>\n",
       "      <td>3.549384</td>\n",
       "      <td>3.958287</td>\n",
       "      <td>4.788052</td>\n",
       "      <td>14.221336</td>\n",
       "      <td>4.634019</td>\n",
       "      <td>...</td>\n",
       "      <td>17.671186</td>\n",
       "      <td>20.907040</td>\n",
       "      <td>6.987625</td>\n",
       "      <td>6.877345</td>\n",
       "      <td>2.741416</td>\n",
       "      <td>2.586083</td>\n",
       "      <td>6.189396</td>\n",
       "      <td>6.535474</td>\n",
       "      <td>0.455328</td>\n",
       "      <td>0.497882</td>\n",
       "    </tr>\n",
       "    <tr>\n",
       "      <th>min</th>\n",
       "      <td>0.000000</td>\n",
       "      <td>0.000000</td>\n",
       "      <td>-4.700000</td>\n",
       "      <td>4.100000</td>\n",
       "      <td>0.000000</td>\n",
       "      <td>0.000000</td>\n",
       "      <td>0.000000</td>\n",
       "      <td>0.000000</td>\n",
       "      <td>9.000000</td>\n",
       "      <td>0.000000</td>\n",
       "      <td>...</td>\n",
       "      <td>3.000000</td>\n",
       "      <td>0.000000</td>\n",
       "      <td>980.500000</td>\n",
       "      <td>979.000000</td>\n",
       "      <td>0.000000</td>\n",
       "      <td>0.000000</td>\n",
       "      <td>-0.700000</td>\n",
       "      <td>3.700000</td>\n",
       "      <td>0.000000</td>\n",
       "      <td>0.000000</td>\n",
       "    </tr>\n",
       "    <tr>\n",
       "      <th>25%</th>\n",
       "      <td>984.000000</td>\n",
       "      <td>6.000000</td>\n",
       "      <td>8.600000</td>\n",
       "      <td>17.900000</td>\n",
       "      <td>0.000000</td>\n",
       "      <td>2.400000</td>\n",
       "      <td>3.400000</td>\n",
       "      <td>3.000000</td>\n",
       "      <td>31.000000</td>\n",
       "      <td>3.000000</td>\n",
       "      <td>...</td>\n",
       "      <td>58.000000</td>\n",
       "      <td>41.000000</td>\n",
       "      <td>1012.200000</td>\n",
       "      <td>1009.900000</td>\n",
       "      <td>2.000000</td>\n",
       "      <td>3.000000</td>\n",
       "      <td>12.700000</td>\n",
       "      <td>16.500000</td>\n",
       "      <td>0.000000</td>\n",
       "      <td>0.000000</td>\n",
       "    </tr>\n",
       "    <tr>\n",
       "      <th>50%</th>\n",
       "      <td>1651.000000</td>\n",
       "      <td>11.000000</td>\n",
       "      <td>13.100000</td>\n",
       "      <td>22.700000</td>\n",
       "      <td>0.000000</td>\n",
       "      <td>4.400000</td>\n",
       "      <td>7.200000</td>\n",
       "      <td>8.000000</td>\n",
       "      <td>41.000000</td>\n",
       "      <td>7.000000</td>\n",
       "      <td>...</td>\n",
       "      <td>70.000000</td>\n",
       "      <td>56.000000</td>\n",
       "      <td>1016.800000</td>\n",
       "      <td>1014.400000</td>\n",
       "      <td>6.000000</td>\n",
       "      <td>6.000000</td>\n",
       "      <td>17.300000</td>\n",
       "      <td>21.100000</td>\n",
       "      <td>0.000000</td>\n",
       "      <td>0.000000</td>\n",
       "    </tr>\n",
       "    <tr>\n",
       "      <th>75%</th>\n",
       "      <td>2381.000000</td>\n",
       "      <td>17.000000</td>\n",
       "      <td>18.000000</td>\n",
       "      <td>28.100000</td>\n",
       "      <td>1.800000</td>\n",
       "      <td>7.000000</td>\n",
       "      <td>10.000000</td>\n",
       "      <td>12.000000</td>\n",
       "      <td>50.000000</td>\n",
       "      <td>11.000000</td>\n",
       "      <td>...</td>\n",
       "      <td>83.000000</td>\n",
       "      <td>70.000000</td>\n",
       "      <td>1021.400000</td>\n",
       "      <td>1019.000000</td>\n",
       "      <td>7.000000</td>\n",
       "      <td>7.000000</td>\n",
       "      <td>22.300000</td>\n",
       "      <td>26.200000</td>\n",
       "      <td>1.000000</td>\n",
       "      <td>1.000000</td>\n",
       "    </tr>\n",
       "    <tr>\n",
       "      <th>max</th>\n",
       "      <td>3415.000000</td>\n",
       "      <td>22.000000</td>\n",
       "      <td>31.400000</td>\n",
       "      <td>46.800000</td>\n",
       "      <td>206.200000</td>\n",
       "      <td>59.800000</td>\n",
       "      <td>14.500000</td>\n",
       "      <td>15.000000</td>\n",
       "      <td>122.000000</td>\n",
       "      <td>15.000000</td>\n",
       "      <td>...</td>\n",
       "      <td>100.000000</td>\n",
       "      <td>100.000000</td>\n",
       "      <td>1040.200000</td>\n",
       "      <td>1037.000000</td>\n",
       "      <td>8.000000</td>\n",
       "      <td>9.000000</td>\n",
       "      <td>39.400000</td>\n",
       "      <td>46.100000</td>\n",
       "      <td>1.000000</td>\n",
       "      <td>1.000000</td>\n",
       "    </tr>\n",
       "  </tbody>\n",
       "</table>\n",
       "<p>8 rows × 23 columns</p>\n",
       "</div>"
      ],
      "text/plain": [
       "               Date      Location       MinTemp       MaxTemp      Rainfall  \\\n",
       "count  24196.000000  24196.000000  24196.000000  24196.000000  24196.000000   \n",
       "mean    1702.554430     11.126880     13.281232     23.124078      3.008857   \n",
       "std      837.645705      6.397324      6.084032      6.681013      8.399269   \n",
       "min        0.000000      0.000000     -4.700000      4.100000      0.000000   \n",
       "25%      984.000000      6.000000      8.600000     17.900000      0.000000   \n",
       "50%     1651.000000     11.000000     13.100000     22.700000      0.000000   \n",
       "75%     2381.000000     17.000000     18.000000     28.100000      1.800000   \n",
       "max     3415.000000     22.000000     31.400000     46.800000    206.200000   \n",
       "\n",
       "        Evaporation      Sunshine   WindGustDir  WindGustSpeed    WindDir9am  \\\n",
       "count  24196.000000  24196.000000  24196.000000   24196.000000  24196.000000   \n",
       "mean       5.114329      6.700591      7.752273      42.371880      7.315424   \n",
       "std        3.549384      3.958287      4.788052      14.221336      4.634019   \n",
       "min        0.000000      0.000000      0.000000       9.000000      0.000000   \n",
       "25%        2.400000      3.400000      3.000000      31.000000      3.000000   \n",
       "50%        4.400000      7.200000      8.000000      41.000000      7.000000   \n",
       "75%        7.000000     10.000000     12.000000      50.000000     11.000000   \n",
       "max       59.800000     14.500000     15.000000     122.000000     15.000000   \n",
       "\n",
       "       ...   Humidity9am   Humidity3pm   Pressure9am   Pressure3pm  \\\n",
       "count  ...  24196.000000  24196.000000  24196.000000  24196.000000   \n",
       "mean   ...     69.505621     55.335345   1016.774682   1014.508518   \n",
       "std    ...     17.671186     20.907040      6.987625      6.877345   \n",
       "min    ...      3.000000      0.000000    980.500000    979.000000   \n",
       "25%    ...     58.000000     41.000000   1012.200000   1009.900000   \n",
       "50%    ...     70.000000     56.000000   1016.800000   1014.400000   \n",
       "75%    ...     83.000000     70.000000   1021.400000   1019.000000   \n",
       "max    ...    100.000000    100.000000   1040.200000   1037.000000   \n",
       "\n",
       "           Cloud9am      Cloud3pm       Temp9am       Temp3pm     RainToday  \\\n",
       "count  24196.000000  24196.000000  24196.000000  24196.000000  24196.000000   \n",
       "mean       4.767152      4.926682     17.609216     21.493420      0.293396   \n",
       "std        2.741416      2.586083      6.189396      6.535474      0.455328   \n",
       "min        0.000000      0.000000     -0.700000      3.700000      0.000000   \n",
       "25%        2.000000      3.000000     12.700000     16.500000      0.000000   \n",
       "50%        6.000000      6.000000     17.300000     21.100000      0.000000   \n",
       "75%        7.000000      7.000000     22.300000     26.200000      1.000000   \n",
       "max        8.000000      9.000000     39.400000     46.100000      1.000000   \n",
       "\n",
       "       RainTomorrow  \n",
       "count  24196.000000  \n",
       "mean       0.453918  \n",
       "std        0.497882  \n",
       "min        0.000000  \n",
       "25%        0.000000  \n",
       "50%        0.000000  \n",
       "75%        1.000000  \n",
       "max        1.000000  \n",
       "\n",
       "[8 rows x 23 columns]"
      ]
     },
     "execution_count": 7,
     "metadata": {},
     "output_type": "execute_result"
    }
   ],
   "source": [
    "## Apply describe on dataframe\n",
    "\n",
    "## ======== YOUR CODE HERE ======== ##\n",
    "\n",
    "df.describe()\n",
    "\n",
    "## ================================ ##"
   ]
  },
  {
   "cell_type": "markdown",
   "metadata": {
    "id": "0rh7Jr4tvpa1"
   },
   "source": [
    "<h1 style=\"background-color:#ABFF9B;font-size:20px;color:#00033E;font-weight : bold\">Check missing values in the dataset and fill them by any method</h1>"
   ]
  },
  {
   "cell_type": "code",
   "execution_count": 8,
   "metadata": {
    "id": "4z466pWsvpa1"
   },
   "outputs": [
    {
     "data": {
      "text/plain": [
       "Date             0\n",
       "Location         0\n",
       "MinTemp          0\n",
       "MaxTemp          0\n",
       "Rainfall         0\n",
       "Evaporation      0\n",
       "Sunshine         0\n",
       "WindGustDir      0\n",
       "WindGustSpeed    0\n",
       "WindDir9am       0\n",
       "WindDir3pm       0\n",
       "WindSpeed9am     0\n",
       "WindSpeed3pm     0\n",
       "Humidity9am      0\n",
       "Humidity3pm      0\n",
       "Pressure9am      0\n",
       "Pressure3pm      0\n",
       "Cloud9am         0\n",
       "Cloud3pm         0\n",
       "Temp9am          0\n",
       "Temp3pm          0\n",
       "RainToday        0\n",
       "RainTomorrow     0\n",
       "dtype: int64"
      ]
     },
     "execution_count": 8,
     "metadata": {},
     "output_type": "execute_result"
    }
   ],
   "source": [
    "## Check if there any null value in the dataset.\n",
    "\n",
    "## ======== YOUR CODE HERE ======== ##\n",
    "\n",
    "df.isnull().sum()\n",
    "\n",
    "## ================================ ##"
   ]
  },
  {
   "cell_type": "markdown",
   "metadata": {
    "id": "c-BNxcmrvpa2"
   },
   "source": [
    "<h1 style=\"background-color:#ABFF9B;font-size:20px;color:#00033E;font-weight : bold\">Use Feature Encoding :</h1>"
   ]
  },
  {
   "cell_type": "code",
   "execution_count": 10,
   "metadata": {
    "id": "FZmvqTMxvpa2"
   },
   "outputs": [
    {
     "name": "stdout",
     "output_type": "stream",
     "text": [
      "(24196, 23)\n"
     ]
    },
    {
     "data": {
      "text/html": [
       "<div>\n",
       "<style scoped>\n",
       "    .dataframe tbody tr th:only-of-type {\n",
       "        vertical-align: middle;\n",
       "    }\n",
       "\n",
       "    .dataframe tbody tr th {\n",
       "        vertical-align: top;\n",
       "    }\n",
       "\n",
       "    .dataframe thead th {\n",
       "        text-align: right;\n",
       "    }\n",
       "</style>\n",
       "<table border=\"1\" class=\"dataframe\">\n",
       "  <thead>\n",
       "    <tr style=\"text-align: right;\">\n",
       "      <th></th>\n",
       "      <th>Date</th>\n",
       "      <th>Location</th>\n",
       "      <th>MinTemp</th>\n",
       "      <th>MaxTemp</th>\n",
       "      <th>Rainfall</th>\n",
       "      <th>Evaporation</th>\n",
       "      <th>Sunshine</th>\n",
       "      <th>WindGustDir</th>\n",
       "      <th>WindGustSpeed</th>\n",
       "      <th>WindDir9am</th>\n",
       "      <th>...</th>\n",
       "      <th>Humidity9am</th>\n",
       "      <th>Humidity3pm</th>\n",
       "      <th>Pressure9am</th>\n",
       "      <th>Pressure3pm</th>\n",
       "      <th>Cloud9am</th>\n",
       "      <th>Cloud3pm</th>\n",
       "      <th>Temp9am</th>\n",
       "      <th>Temp3pm</th>\n",
       "      <th>RainToday</th>\n",
       "      <th>RainTomorrow</th>\n",
       "    </tr>\n",
       "  </thead>\n",
       "  <tbody>\n",
       "    <tr>\n",
       "      <th>0</th>\n",
       "      <td>2856</td>\n",
       "      <td>11</td>\n",
       "      <td>18.3</td>\n",
       "      <td>35.4</td>\n",
       "      <td>0.0</td>\n",
       "      <td>10.7</td>\n",
       "      <td>8.2</td>\n",
       "      <td>15</td>\n",
       "      <td>31</td>\n",
       "      <td>0</td>\n",
       "      <td>...</td>\n",
       "      <td>17</td>\n",
       "      <td>14</td>\n",
       "      <td>1012.8</td>\n",
       "      <td>1010.7</td>\n",
       "      <td>3</td>\n",
       "      <td>7</td>\n",
       "      <td>26.3</td>\n",
       "      <td>34.0</td>\n",
       "      <td>0</td>\n",
       "      <td>1</td>\n",
       "    </tr>\n",
       "    <tr>\n",
       "      <th>1</th>\n",
       "      <td>575</td>\n",
       "      <td>0</td>\n",
       "      <td>12.0</td>\n",
       "      <td>21.1</td>\n",
       "      <td>0.0</td>\n",
       "      <td>2.4</td>\n",
       "      <td>4.9</td>\n",
       "      <td>11</td>\n",
       "      <td>22</td>\n",
       "      <td>15</td>\n",
       "      <td>...</td>\n",
       "      <td>70</td>\n",
       "      <td>60</td>\n",
       "      <td>1022.3</td>\n",
       "      <td>1020.2</td>\n",
       "      <td>2</td>\n",
       "      <td>7</td>\n",
       "      <td>16.2</td>\n",
       "      <td>19.4</td>\n",
       "      <td>0</td>\n",
       "      <td>0</td>\n",
       "    </tr>\n",
       "    <tr>\n",
       "      <th>2</th>\n",
       "      <td>2037</td>\n",
       "      <td>6</td>\n",
       "      <td>11.9</td>\n",
       "      <td>17.0</td>\n",
       "      <td>1.6</td>\n",
       "      <td>5.6</td>\n",
       "      <td>0.8</td>\n",
       "      <td>5</td>\n",
       "      <td>48</td>\n",
       "      <td>4</td>\n",
       "      <td>...</td>\n",
       "      <td>71</td>\n",
       "      <td>88</td>\n",
       "      <td>1008.4</td>\n",
       "      <td>1004.7</td>\n",
       "      <td>7</td>\n",
       "      <td>7</td>\n",
       "      <td>14.6</td>\n",
       "      <td>13.3</td>\n",
       "      <td>1</td>\n",
       "      <td>1</td>\n",
       "    </tr>\n",
       "    <tr>\n",
       "      <th>3</th>\n",
       "      <td>2010</td>\n",
       "      <td>19</td>\n",
       "      <td>1.3</td>\n",
       "      <td>10.2</td>\n",
       "      <td>4.2</td>\n",
       "      <td>2.6</td>\n",
       "      <td>4.4</td>\n",
       "      <td>15</td>\n",
       "      <td>33</td>\n",
       "      <td>15</td>\n",
       "      <td>...</td>\n",
       "      <td>87</td>\n",
       "      <td>64</td>\n",
       "      <td>1018.4</td>\n",
       "      <td>1016.8</td>\n",
       "      <td>7</td>\n",
       "      <td>7</td>\n",
       "      <td>3.8</td>\n",
       "      <td>8.5</td>\n",
       "      <td>1</td>\n",
       "      <td>0</td>\n",
       "    </tr>\n",
       "    <tr>\n",
       "      <th>4</th>\n",
       "      <td>2895</td>\n",
       "      <td>18</td>\n",
       "      <td>23.7</td>\n",
       "      <td>31.5</td>\n",
       "      <td>0.0</td>\n",
       "      <td>11.0</td>\n",
       "      <td>12.1</td>\n",
       "      <td>4</td>\n",
       "      <td>35</td>\n",
       "      <td>2</td>\n",
       "      <td>...</td>\n",
       "      <td>53</td>\n",
       "      <td>50</td>\n",
       "      <td>1014.2</td>\n",
       "      <td>1010.2</td>\n",
       "      <td>3</td>\n",
       "      <td>1</td>\n",
       "      <td>29.1</td>\n",
       "      <td>30.4</td>\n",
       "      <td>0</td>\n",
       "      <td>0</td>\n",
       "    </tr>\n",
       "  </tbody>\n",
       "</table>\n",
       "<p>5 rows × 23 columns</p>\n",
       "</div>"
      ],
      "text/plain": [
       "   Date  Location  MinTemp  MaxTemp  Rainfall  Evaporation  Sunshine  \\\n",
       "0  2856        11     18.3     35.4       0.0         10.7       8.2   \n",
       "1   575         0     12.0     21.1       0.0          2.4       4.9   \n",
       "2  2037         6     11.9     17.0       1.6          5.6       0.8   \n",
       "3  2010        19      1.3     10.2       4.2          2.6       4.4   \n",
       "4  2895        18     23.7     31.5       0.0         11.0      12.1   \n",
       "\n",
       "   WindGustDir  WindGustSpeed  WindDir9am  ...  Humidity9am  Humidity3pm  \\\n",
       "0           15             31           0  ...           17           14   \n",
       "1           11             22          15  ...           70           60   \n",
       "2            5             48           4  ...           71           88   \n",
       "3           15             33          15  ...           87           64   \n",
       "4            4             35           2  ...           53           50   \n",
       "\n",
       "   Pressure9am  Pressure3pm  Cloud9am  Cloud3pm  Temp9am  Temp3pm  RainToday  \\\n",
       "0       1012.8       1010.7         3         7     26.3     34.0          0   \n",
       "1       1022.3       1020.2         2         7     16.2     19.4          0   \n",
       "2       1008.4       1004.7         7         7     14.6     13.3          1   \n",
       "3       1018.4       1016.8         7         7      3.8      8.5          1   \n",
       "4       1014.2       1010.2         3         1     29.1     30.4          0   \n",
       "\n",
       "   RainTomorrow  \n",
       "0             1  \n",
       "1             0  \n",
       "2             1  \n",
       "3             0  \n",
       "4             0  \n",
       "\n",
       "[5 rows x 23 columns]"
      ]
     },
     "execution_count": 10,
     "metadata": {},
     "output_type": "execute_result"
    }
   ],
   "source": [
    "## ======== YOUR CODE HERE ======== ##\n",
    "\n",
    "## Use one hot encoding on dataframe\n",
    "\n",
    "## Optional step \n",
    "\n",
    "ohe = pd.get_dummies(data=df)\n",
    "print(ohe.shape)\n",
    "ohe.head()\n",
    "\n",
    "\n",
    "## ================================ ##\n"
   ]
  },
  {
   "cell_type": "markdown",
   "metadata": {
    "id": "pm9NZc9Bvpa2"
   },
   "source": [
    "<h1 style=\"background-color:#ABFF9B;font-size:20px;color:#00033E;font-weight : bold\">Split the data into train and test.</h1>"
   ]
  },
  {
   "cell_type": "code",
   "execution_count": 11,
   "metadata": {
    "id": "ENos_-58vpa2"
   },
   "outputs": [],
   "source": [
    "## ======== YOUR CODE HERE ======== ##\n",
    " \n",
    "## Test size should be 25% of the full dataset and use random state = 2021\n",
    "\n",
    "Y = df['RainTomorrow']\n",
    "X = df.drop(['RainTomorrow'], axis=1)\n",
    "\n",
    "X_train, X_test, y_train, y_test = train_test_split(X,Y, test_size=0.25, random_state=2021)\n",
    "\n",
    "\n",
    "## ================================ ##"
   ]
  },
  {
   "cell_type": "code",
   "execution_count": 12,
   "metadata": {
    "id": "9z0dhowPvpa2"
   },
   "outputs": [
    {
     "name": "stdout",
     "output_type": "stream",
     "text": [
      "X_train: (18147, 22)\n",
      "X_test: (6049, 22)\n",
      "y_train: (18147,)\n",
      "y_test: (6049,)\n"
     ]
    }
   ],
   "source": [
    "## ======== YOUR CODE HERE ======== ##\n",
    "\n",
    "   ## Let us print the shapes:\n",
    "    \n",
    "print(\"X_train:\", X_train.shape) # X_train\n",
    "print(\"X_test:\",X_test.shape) # X_test\n",
    "print(\"y_train:\",y_train.shape) # y_train\n",
    "print(\"y_test:\",y_test.shape) # y_test\n",
    "\n",
    "## ================================ ##"
   ]
  },
  {
   "cell_type": "markdown",
   "metadata": {
    "id": "qgbT2Gqdvpa3"
   },
   "source": [
    "<h1 style=\"background-color:#ABFF9B;font-size:20px;color:#00033E;font-weight : bold\">Scale the data using Standard Scaler :</h1>"
   ]
  },
  {
   "cell_type": "code",
   "execution_count": 13,
   "metadata": {
    "id": "3n7PsXYnvpa3"
   },
   "outputs": [],
   "source": [
    "## Use Standard Scaler to scale the train and test data\n",
    "\n",
    "## ======== YOUR CODE HERE ======== ##\n",
    "\n",
    "scaler = StandardScaler()\n",
    "X_train_scaled= scaler.fit_transform(X_train)\n",
    "X_test_scaled= scaler.transform(X_test)\n",
    "\n",
    "## ================================ ##"
   ]
  },
  {
   "cell_type": "markdown",
   "metadata": {
    "id": "IY8VC5sBvpa3"
   },
   "source": [
    "<h1 style=\"background-color:#ABFF9B;font-size:20px;color:#00033E;font-weight : bold\">Train a Logistic Regression with all default parameters</h1>"
   ]
  },
  {
   "cell_type": "code",
   "execution_count": 14,
   "metadata": {
    "id": "8vZV0RUhvpa3"
   },
   "outputs": [
    {
     "data": {
      "text/plain": [
       "LogisticRegression(random_state=2021)"
      ]
     },
     "execution_count": 14,
     "metadata": {},
     "output_type": "execute_result"
    }
   ],
   "source": [
    "## Use Random state = 2021 and fit the LR model\n",
    "\n",
    "## ======== YOUR CODE HERE ======== ##\n",
    "\n",
    "logreg = LogisticRegression(random_state=2021)\n",
    "logreg.fit(X_train_scaled, y_train)\n",
    "\n",
    "## ================================ ##"
   ]
  },
  {
   "cell_type": "markdown",
   "metadata": {
    "id": "bnmjHAupvpa4"
   },
   "source": [
    "<h1 style=\"background-color:#ABFF9B;font-size:20px;color:#00033E;font-weight : bold\">Plot Confusion Matrix using plot_confusion_matrix module :</h1>"
   ]
  },
  {
   "cell_type": "code",
   "execution_count": 15,
   "metadata": {
    "id": "E1SXfdSUvpa4"
   },
   "outputs": [
    {
     "data": {
      "text/plain": [
       "<sklearn.metrics._plot.confusion_matrix.ConfusionMatrixDisplay at 0x1e0f1d85c10>"
      ]
     },
     "execution_count": 15,
     "metadata": {},
     "output_type": "execute_result"
    },
    {
     "data": {
      "image/png": "[encoded data removed]",
      "text/plain": [
       "<Figure size 432x288 with 2 Axes>"
      ]
     },
     "metadata": {
      "needs_background": "light"
     },
     "output_type": "display_data"
    }
   ],
   "source": [
    "## ======== YOUR CODE HERE ======== ##\n",
    "\n",
    "## Use display labels as per your choice.\n",
    "\n",
    "plot_confusion_matrix(logreg,X_test_scaled,y_test, \n",
    "                     values_format='d',\n",
    "                     display_labels=[\"False\",\"True\"],cmap='rocket')\n",
    "\n",
    "## ================================ ##"
   ]
  },
  {
   "cell_type": "markdown",
   "metadata": {
    "id": "pgN165X7vpa4"
   },
   "source": [
    "<h1 style=\"background-color:#ABFF9B;font-size:20px;color:#00033E;font-weight : bold\">Print out Classification Report for LR :</h1>"
   ]
  },
  {
   "cell_type": "code",
   "execution_count": 16,
   "metadata": {
    "id": "FzcnzDD9vpa4"
   },
   "outputs": [
    {
     "name": "stdout",
     "output_type": "stream",
     "text": [
      "              precision    recall  f1-score   support\n",
      "\n",
      "           0       0.80      0.83      0.82      3300\n",
      "           1       0.79      0.75      0.77      2749\n",
      "\n",
      "    accuracy                           0.80      6049\n",
      "   macro avg       0.80      0.79      0.79      6049\n",
      "weighted avg       0.80      0.80      0.80      6049\n",
      "\n"
     ]
    }
   ],
   "source": [
    "## ======== YOUR CODE HERE ======== ##\n",
    "\n",
    "y_pred_logreg=logreg.predict(X_test_scaled)\n",
    "print(classification_report(y_test,y_pred_logreg))\n",
    "\n",
    "## ================================ ##\n"
   ]
  },
  {
   "cell_type": "markdown",
   "metadata": {
    "id": "Xle8Hr2vvpa4"
   },
   "source": [
    "<h1 style=\"background-color:#ABFF9B;font-size:20px;color:#00033E;font-weight : bold\">Print Training and Testing Score along with Accuracy score for LR :</h1> "
   ]
  },
  {
   "cell_type": "code",
   "execution_count": 19,
   "metadata": {
    "id": "ND1kWpJMvpa5"
   },
   "outputs": [
    {
     "name": "stdout",
     "output_type": "stream",
     "text": [
      "Train Data Score: 0.7989199316691464\n",
      "Test Data Score: 0.7969912382211936\n"
     ]
    }
   ],
   "source": [
    "## ======== YOUR CODE HERE ======== ##\n",
    "\n",
    "print(\"Train Data Score: {}\".format(logreg.score(X_train_scaled, y_train)))\n",
    "print(\"Test Data Score: {}\".format(logreg.score(X_test_scaled, y_test)))\n",
    "\n",
    "## ================================ ##"
   ]
  },
  {
   "cell_type": "code",
   "execution_count": 20,
   "metadata": {
    "id": "jm3sW4ZTvpa5"
   },
   "outputs": [
    {
     "name": "stdout",
     "output_type": "stream",
     "text": [
      "Accuracy ->  0.7969912382211936\n"
     ]
    }
   ],
   "source": [
    "## ======== YOUR CODE HERE ======== ##\n",
    "\n",
    "## Print Accuracy Score for LR\n",
    "\n",
    "print('Accuracy -> ',accuracy_score(y_test,y_pred_logreg))\n",
    "\n",
    "## ================================ ##"
   ]
  },
  {
   "cell_type": "markdown",
   "metadata": {
    "id": "T16gbfRQvpa5"
   },
   "source": [
    "<h1 style=\"background-color:#ABFF9B;font-size:20px;color:#00033E;font-weight : bold\">Print ROC - AUC Score for LR :</h1> "
   ]
  },
  {
   "cell_type": "code",
   "execution_count": 21,
   "metadata": {
    "id": "IV0ubSL9vpa5"
   },
   "outputs": [
    {
     "name": "stdout",
     "output_type": "stream",
     "text": [
      "ROC AUC Scores: 0.7933187274711465\n"
     ]
    }
   ],
   "source": [
    "## ======== YOUR CODE HERE ======== ##\n",
    "\n",
    "## Right way to calculate ROC_AUC score is by using predict_proba method given in official Docs. Sorry from our side.\n",
    "\n",
    "print('ROC AUC Scores: {}'.format(roc_auc_score(y_test, y_pred_logreg)))\n",
    "\n",
    "## ================================ ##"
   ]
  },
  {
   "cell_type": "markdown",
   "metadata": {
    "id": "og34rzbSvpa5"
   },
   "source": [
    "<h1 style=\"background-color:#ABFF9B;font-size:20px;color:#00033E;font-weight : bold\">Train SVM with C = 50 and gamma = scale :</h1>"
   ]
  },
  {
   "cell_type": "code",
   "execution_count": 26,
   "metadata": {
    "id": "_fw1j2cxvpa5"
   },
   "outputs": [
    {
     "name": "stdout",
     "output_type": "stream",
     "text": [
      "Wall time: 0 ns\n"
     ]
    }
   ],
   "source": [
    "## ======== YOUR CODE HERE ======== ##\n",
    "\n",
    "## Set probability = True \n",
    "\n",
    "clf_svm = SVC(random_state=2021,C=50,gamma='scale',kernel='rbf',probability=True)\n",
    "clf_svm.fit(X_train_scaled, y_train)\n",
    "\n",
    "%time\n",
    "\n",
    "## ================================ ##"
   ]
  },
  {
   "cell_type": "markdown",
   "metadata": {
    "id": "y8VRDRHXvpa6"
   },
   "source": [
    "<h1 style=\"background-color:#ABFF9B;font-size:20px;color:#00033E;font-weight : bold\">Plot Confusion Matrix for SVM :</h1>"
   ]
  },
  {
   "cell_type": "code",
   "execution_count": 27,
   "metadata": {
    "id": "1TTVlekPvpa6"
   },
   "outputs": [
    {
     "data": {
      "text/plain": [
       "<sklearn.metrics._plot.confusion_matrix.ConfusionMatrixDisplay at 0x1e0f8691340>"
      ]
     },
     "execution_count": 27,
     "metadata": {},
     "output_type": "execute_result"
    },
    {
     "data": {
      "image/png": "[encoded data removed]",
      "text/plain": [
       "<Figure size 432x288 with 2 Axes>"
      ]
     },
     "metadata": {
      "needs_background": "light"
     },
     "output_type": "display_data"
    }
   ],
   "source": [
    "## ======== YOUR CODE HERE ======== ##\n",
    "\n",
    "## Use display labels as per your choice.\n",
    "\n",
    "plot_confusion_matrix(clf_svm,X_test_scaled,y_test, \n",
    "                     values_format='d',\n",
    "                     display_labels=[\"False\",\"True\"],cmap='rocket')\n",
    "\n",
    "\n",
    "## ================================ ##\n"
   ]
  },
  {
   "cell_type": "markdown",
   "metadata": {
    "id": "TNWvmLSivpa6"
   },
   "source": [
    "<h1 style=\"background-color:#ABFF9B;font-size:20px;color:#00033E;font-weight : bold\">Print out Classification Report for SVM :</h1>"
   ]
  },
  {
   "cell_type": "code",
   "execution_count": 28,
   "metadata": {
    "id": "yQDf6wOdvpa6"
   },
   "outputs": [
    {
     "name": "stdout",
     "output_type": "stream",
     "text": [
      "              precision    recall  f1-score   support\n",
      "\n",
      "           0       0.80      0.81      0.80      3300\n",
      "           1       0.76      0.76      0.76      2749\n",
      "\n",
      "    accuracy                           0.78      6049\n",
      "   macro avg       0.78      0.78      0.78      6049\n",
      "weighted avg       0.78      0.78      0.78      6049\n",
      "\n"
     ]
    }
   ],
   "source": [
    "## ======== YOUR CODE HERE ======== ##\n",
    "\n",
    "y_pred1=clf_svm.predict(X_test_scaled)\n",
    "print(classification_report(y_test,y_pred1))\n",
    "\n",
    "## ================================ ##"
   ]
  },
  {
   "cell_type": "markdown",
   "metadata": {
    "id": "SfF49qwIvpa7"
   },
   "source": [
    "<h1 style=\"background-color:#ABFF9B;font-size:20px;color:#00033E;font-weight : bold\">Print out Accuracy score for SVM :</h1>"
   ]
  },
  {
   "cell_type": "code",
   "execution_count": 29,
   "metadata": {
    "id": "lH1lkfsFvpa7"
   },
   "outputs": [
    {
     "name": "stdout",
     "output_type": "stream",
     "text": [
      "Accuracy ->  0.7834352785584394\n"
     ]
    }
   ],
   "source": [
    "## ======== YOUR CODE HERE ======== ##\n",
    "\n",
    "print('Accuracy -> ',accuracy_score(y_test,y_pred1))\n",
    "\n",
    "## ================================ ##"
   ]
  },
  {
   "cell_type": "markdown",
   "metadata": {
    "id": "0tlgy05Jvpa7"
   },
   "source": [
    "<h1 style=\"background-color:#ABFF9B;font-size:20px;color:#00033E;font-weight : bold\">Print Training and Testing Score for SVM :</h1> "
   ]
  },
  {
   "cell_type": "code",
   "execution_count": 30,
   "metadata": {
    "id": "yqofS78Xvpa7"
   },
   "outputs": [
    {
     "name": "stdout",
     "output_type": "stream",
     "text": [
      "Train Data Score: 0.9291342921695046\n",
      "Test Data Score: 0.7834352785584394\n"
     ]
    }
   ],
   "source": [
    "## ======== YOUR CODE HERE ======== ##\n",
    "\n",
    "print(\"Train Data Score: {}\".format(clf_svm.score(X_train_scaled, y_train)))\n",
    "print(\"Test Data Score: {}\".format(clf_svm.score(X_test_scaled, y_test)))\n",
    "\n",
    "## ================================ ##"
   ]
  },
  {
   "cell_type": "markdown",
   "metadata": {
    "id": "Ti_PCgHpvpa7"
   },
   "source": [
    "<h1 style=\"background-color:#ABFF9B;font-size:20px;color:#00033E;font-weight : bold\">Plot ROC curve and calculate ROC - AUC score for SVM :</h1> "
   ]
  },
  {
   "cell_type": "code",
   "execution_count": 32,
   "metadata": {
    "id": "iml9q7hrvpa8"
   },
   "outputs": [
    {
     "data": {
      "image/png": "[encoded data removed]",
      "text/plain": [
       "<Figure size 432x288 with 1 Axes>"
      ]
     },
     "metadata": {
      "needs_background": "light"
     },
     "output_type": "display_data"
    }
   ],
   "source": [
    "## ======== YOUR CODE HERE ======== ##\n",
    "\n",
    "## Set appropriate X label, Y label and Title for the graph\n",
    "\n",
    "y_pred_svm_proba = clf_svm.predict_proba(X_test_scaled)\n",
    "fpr, tpr, thresholds = roc_curve(y_test, y_pred_svm_proba[:,1])\n",
    "\n",
    "plt.figure(figsize=(6,4))\n",
    "plt.plot(fpr,tpr,'-r',linewidth=1)\n",
    "plt.plot([0,1], [0,1], 'k--' )\n",
    "plt.title('ROC curve for SVM (C=50)')\n",
    "plt.xlabel(\"False Positive Rate\")\n",
    "plt.ylabel('True Positive Rate')\n",
    "plt.show()\n",
    "\n",
    "\n",
    "## ================================ ##"
   ]
  },
  {
   "cell_type": "code",
   "execution_count": 33,
   "metadata": {
    "id": "T_ninnLwvpa8"
   },
   "outputs": [
    {
     "name": "stdout",
     "output_type": "stream",
     "text": [
      "ROC AUC Scores: 0.7811374384073547\n"
     ]
    }
   ],
   "source": [
    "## ======== YOUR CODE HERE ======== ##\n",
    "\n",
    "## Print out ROC score for SVM\n",
    "\n",
    "print('ROC AUC Scores: {}'.format(roc_auc_score(y_test, y_pred1)))\n",
    "\n",
    "## ================================ ##"
   ]
  },
  {
   "cell_type": "markdown",
   "metadata": {
    "id": "YmpeyKWWvpa8"
   },
   "source": [
    "<h1 style=\"background-color:#ABFF9B;font-size:20px;color:#00033E;font-weight : bold\">Train SVM with C = 1 and gamma = scale :</h1> "
   ]
  },
  {
   "cell_type": "code",
   "execution_count": 37,
   "metadata": {
    "id": "z9mfbGb9vpa8"
   },
   "outputs": [
    {
     "name": "stdout",
     "output_type": "stream",
     "text": [
      "Wall time: 0 ns\n"
     ]
    },
    {
     "data": {
      "text/plain": [
       "SVC(C=1, probability=True, random_state=2021)"
      ]
     },
     "execution_count": 37,
     "metadata": {},
     "output_type": "execute_result"
    }
   ],
   "source": [
    "## ======== YOUR CODE HERE ======== ##\n",
    "\n",
    "## Train SVM with new mentioned parameters\n",
    "\n",
    "%time\n",
    "clf_svm_new = SVC(random_state=2021,probability=True,C=1,gamma='scale')\n",
    "clf_svm_new.fit(X_train_scaled, y_train)\n",
    "\n",
    "## ================================ ##"
   ]
  },
  {
   "cell_type": "markdown",
   "metadata": {
    "id": "pKOp4Cbyvpa9"
   },
   "source": [
    "<h1 style=\"background-color:#ABFF9B;font-size:20px;color:#00033E;font-weight : bold\">Print out Classification Report for new SVM :</h1>"
   ]
  },
  {
   "cell_type": "code",
   "execution_count": 40,
   "metadata": {
    "id": "dPLlDBz0vpa9"
   },
   "outputs": [
    {
     "name": "stdout",
     "output_type": "stream",
     "text": [
      "              precision    recall  f1-score   support\n",
      "\n",
      "           0       0.82      0.84      0.83      3300\n",
      "           1       0.80      0.78      0.79      2749\n",
      "\n",
      "    accuracy                           0.81      6049\n",
      "   macro avg       0.81      0.81      0.81      6049\n",
      "weighted avg       0.81      0.81      0.81      6049\n",
      "\n"
     ]
    },
    {
     "data": {
      "image/png": "[encoded data removed]",
      "text/plain": [
       "<Figure size 432x288 with 2 Axes>"
      ]
     },
     "metadata": {
      "needs_background": "light"
     },
     "output_type": "display_data"
    }
   ],
   "source": [
    "## ======== YOUR CODE HERE ======== ##\n",
    "\n",
    "plot_confusion_matrix(clf_svm_new,X_test_scaled,y_test, \n",
    "                     values_format='d',\n",
    "                     display_labels=[\"False\",\"True\"],cmap='rocket')\n",
    "\n",
    "y_pred_svm=clf_svm_new.predict(X_test_scaled)\n",
    "print(classification_report(y_test,y_pred_svm))\n",
    "\n",
    "\n",
    "## ================================ ##"
   ]
  },
  {
   "cell_type": "markdown",
   "metadata": {
    "id": "c71VaRy9vpa9"
   },
   "source": [
    "<h1 style=\"background-color:#ABFF9B;font-size:20px;color:#00033E;font-weight : bold\">Plot ROC curve and calculate ROC - AUC score for the new SVM :</h1> "
   ]
  },
  {
   "cell_type": "code",
   "execution_count": 46,
   "metadata": {
    "id": "iT8NNVKkvpa9"
   },
   "outputs": [
    {
     "data": {
      "image/png": "[encoded data removed]",
      "text/plain": [
       "<Figure size 432x288 with 1 Axes>"
      ]
     },
     "metadata": {
      "needs_background": "light"
     },
     "output_type": "display_data"
    },
    {
     "name": "stdout",
     "output_type": "stream",
     "text": [
      "ROC AUC Scores: 0.8072020128531587\n"
     ]
    }
   ],
   "source": [
    "## ======== YOUR CODE HERE ======== ##\n",
    "\n",
    "y_pred_svm_proba_new = clf_svm_new.predict_proba(X_test_scaled)\n",
    "fpr, tpr, thresholds = roc_curve(y_test, y_pred_svm_proba_new[:,1])\n",
    "\n",
    "plt.figure(figsize=(6,4))\n",
    "plt.plot(fpr,tpr,'-r',linewidth=1)\n",
    "plt.plot([0,1], [0,1], 'k--' )\n",
    "plt.title('ROC curve for SVM (C=1)')\n",
    "plt.xlabel(\"False Positive Rate\")\n",
    "plt.ylabel('True Positive Rate')\n",
    "plt.show()\n",
    "\n",
    "print('ROC AUC Scores: {}'.format(roc_auc_score(y_test, y_pred_svm)))\n",
    "\n",
    "## ================================ ##"
   ]
  },
  {
   "cell_type": "markdown",
   "metadata": {
    "id": "6tlhrJ8qvpa-"
   },
   "source": [
    "<h1 style=\"background-color:#ABFF9B;font-size:20px;color:#00033E;font-weight : bold\">Print Training and Testing Score along with accuracy score for the new SVM :</h1> "
   ]
  },
  {
   "cell_type": "code",
   "execution_count": 43,
   "metadata": {
    "id": "AnydqRTQvpa-"
   },
   "outputs": [
    {
     "name": "stdout",
     "output_type": "stream",
     "text": [
      "Train Data Score: 0.8343527855843941\n",
      "Test Data Score: 0.8098859315589354\n"
     ]
    }
   ],
   "source": [
    "## ======== YOUR CODE HERE ======== ##\n",
    "\n",
    "print(\"Train Data Score: {}\".format(clf_svm_new.score(X_train_scaled, y_train)))\n",
    "print(\"Test Data Score: {}\".format(clf_svm_new.score(X_test_scaled, y_test)))\n",
    "\n",
    "## ================================ ##"
   ]
  },
  {
   "cell_type": "code",
   "execution_count": 44,
   "metadata": {
    "id": "epvTM-Tcvpa-"
   },
   "outputs": [
    {
     "name": "stdout",
     "output_type": "stream",
     "text": [
      "Accuracy ->  0.8098859315589354\n"
     ]
    }
   ],
   "source": [
    "## ======== YOUR CODE HERE ======== ##\n",
    "\n",
    "## Print out Accuracy score for the new SVM\n",
    "\n",
    "print('Accuracy -> ',accuracy_score(y_test,y_pred_svm))\n",
    "\n",
    "## ================================ ##"
   ]
  },
  {
   "cell_type": "markdown",
   "metadata": {
    "id": "wwVQ1LTKvpa-"
   },
   "source": [
    "<h1 style=\"background-color:#ABFF9B;font-size:20px;color:#00033E;font-weight : bold\">Calculate Average Cross-Val score for the new SVM with 5 folds  :</h1> "
   ]
  },
  {
   "cell_type": "code",
   "execution_count": 45,
   "metadata": {
    "id": "jC0bK5Fsvpa-"
   },
   "outputs": [
    {
     "name": "stdout",
     "output_type": "stream",
     "text": [
      "Cross-validation scores:[0.81432507 0.80523416 0.81620281 0.81344723 0.80986498]\n",
      "Average cross-validation score: 0.8118148493122817\n"
     ]
    }
   ],
   "source": [
    "## ======== YOUR CODE HERE ======== ##\n",
    "\n",
    "## Find mean for the calculated CV scores\n",
    "\n",
    "scores = cross_val_score(clf_svm_new, X_train_scaled, y_train, cv = 5)\n",
    "print('Cross-validation scores:{}'.format(scores))\n",
    "\n",
    "print('Average cross-validation score: {}'.format(scores.mean()))\n",
    "\n",
    "\n",
    "## ================================ ##"
   ]
  },
  {
   "cell_type": "markdown",
   "metadata": {
    "id": "QxWC2wNLvpa-"
   },
   "source": [
    "<br>\n",
    "<h1 style = \"font-size:30px; font-family:Brush Script MT ; font-weight : bold; color : #0331A8; text-align: center; border-radius: 10px 10px;\">The End</h1>\n",
    "<br>"
   ]
  },
  {
   "cell_type": "code",
   "execution_count": null,
   "metadata": {
    "id": "_s1d-tV4vpa_"
   },
   "outputs": [],
   "source": []
  }
 ],
 "metadata": {
  "colab": {
   "name": "SA2021_W3.ipynb",
   "provenance": []
  },
  "kernelspec": {
   "display_name": "Python 3",
   "language": "python",
   "name": "python3"
  },
  "language_info": {
   "codemirror_mode": {
    "name": "ipython",
    "version": 3
   },
   "file_extension": ".py",
   "mimetype": "text/x-python",
   "name": "python",
   "nbconvert_exporter": "python",
   "pygments_lexer": "ipython3",
   "version": "3.8.5"
  }
 },
 "nbformat": 4,
 "nbformat_minor": 1
}
